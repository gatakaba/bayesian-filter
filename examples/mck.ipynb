{
 "cells": [
  {
   "cell_type": "markdown",
   "metadata": {
    "collapsed": true
   },
   "source": [
    "# バネダンパ系の状態方程式\n",
    "\n",
    "質量M,ダンパ係数C,弾性係数Kの運動方程式は以下のようになる\n",
    "\n",
    "$$ M \\frac{d^{2}x}{dt^{2}} + C \\frac{dx}{dt} + K x = f(t)  $$\n"
   ]
  },
  {
   "cell_type": "markdown",
   "metadata": {},
   "source": [
    "![mck](images/mck.gif)"
   ]
  },
  {
   "cell_type": "markdown",
   "metadata": {
    "collapsed": true
   },
   "source": [
    "これを状態空間モデルに落とし込もう。\n",
    "現在位置 $x$ と速度 $v$ を状態とすると状態空間方程式\n",
    "$$ \\mathbf{z}_{t+1} = A \\mathbf{z}_{t} + B u_{t} $$\n",
    "$$ \\mathbf{x}_{t} = C \\mathbf{z}_{t} $$\n",
    "のパラメータは以下のようになる。\n",
    "\n",
    "$ \\mathbf{z}_{t}= \\left[ x_{t} , v_{t} \\right]^{T} $ \n",
    ",\n",
    "$\n",
    "  A = \\left[\n",
    "    \\begin{array}{rr}\n",
    "      1 & dt \\\\\n",
    "      -\\frac{K}{M}dt & -\\frac{C}{M}dt +1\n",
    "    \\end{array}\n",
    "  \\right]\n",
    "$\n",
    ",\n",
    "$\n",
    "  B = \\left[\n",
    "    \\begin{array}{rr}\n",
    "      0 & 0 \\\\\n",
    "      0 & \\frac{dt}{M}\n",
    "    \\end{array}\n",
    "  \\right]\n",
    "$\n",
    ",\n",
    "$ C= \\left[1 ,0 \\right] $\n",
    ",\n",
    "$ \\mathbf{u}_{t}= \\left[0 ,f \\right]^{T} $\n"
   ]
  },
  {
   "cell_type": "code",
   "execution_count": null,
   "metadata": {
    "collapsed": true
   },
   "outputs": [],
   "source": []
  }
 ],
 "metadata": {
  "kernelspec": {
   "display_name": "Python 3",
   "language": "python",
   "name": "python3"
  },
  "language_info": {
   "codemirror_mode": {
    "name": "ipython",
    "version": 3
   },
   "file_extension": ".py",
   "mimetype": "text/x-python",
   "name": "python",
   "nbconvert_exporter": "python",
   "pygments_lexer": "ipython3",
   "version": "3.5.1"
  }
 },
 "nbformat": 4,
 "nbformat_minor": 0
}
