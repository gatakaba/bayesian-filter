{
 "cells": [
  {
   "cell_type": "markdown",
   "metadata": {},
   "source": [
    "# トラッキング"
   ]
  },
  {
   "cell_type": "markdown",
   "metadata": {},
   "source": [
    "複数のセンサを用いて、動いている物体の位置を推定する問題をUKFによって解く"
   ]
  },
  {
   "cell_type": "markdown",
   "metadata": {},
   "source": [
    "K個のセンサーから得られる情報は\n",
    "1. センサーの位置\n",
    "2. センサーから測定された物体の角度\n",
    "である。\n",
    "\n",
    "動体のシステムモデルは速度がブラウン運動すると仮定し、離散ウィーナ速度モデルを用いた。"
   ]
  },
  {
   "cell_type": "markdown",
   "metadata": {},
   "source": [
    "![mdk](images/tracking2.jpg)"
   ]
  },
  {
   "cell_type": "markdown",
   "metadata": {},
   "source": [
    "- システム方程式\n",
    "\n",
    "    $\n",
    "      \\left[\n",
    "        \\begin{array}{r}\n",
    "          x_{k} \\\\\n",
    "          y_{k} \\\\\n",
    "          \\dot{x}_{k} \\\\\n",
    "          \\dot{y}_{k} \n",
    "        \\end{array}\n",
    "      \\right]\n",
    "    =\n",
    "      \\left[\n",
    "        \\begin{array}{rrrr}\n",
    "          1 & 0 & dt & 0 \\\\\n",
    "          0 & 1 & 0 & dt \\\\\n",
    "          0 & 0 & 1 & 0 \\\\\n",
    "          0 & 0 & 0 & 1 \\\\\n",
    "        \\end{array}\n",
    "      \\right]\n",
    "      \\left[\n",
    "        \\begin{array}{r}\n",
    "          x_{k-1} \\\\\n",
    "          y_{k-1} \\\\\n",
    "          \\dot{x}_{k-1} \\\\\n",
    "          \\dot{y}_{k-1} \n",
    "        \\end{array}\n",
    "      \\right]\n",
    "      +\\mathbf{q}_{k-1}\n",
    "    $\n",
    "- 観測方程式\n",
    "\n",
    "    $\n",
    "    \\mathbf{\\theta}_k^{i}=\\tan^{-1}{\\frac{y_{k}-s_{y}^{1}}{x_{k}-s_{x}^{1}}}+r_{k}\n",
    "    $"
   ]
  },
  {
   "cell_type": "code",
   "execution_count": 1,
   "metadata": {
    "collapsed": false
   },
   "outputs": [],
   "source": [
    "from bayesianfilter import UnscentedKalmanFilter"
   ]
  },
  {
   "cell_type": "code",
   "execution_count": 2,
   "metadata": {
    "collapsed": true
   },
   "outputs": [],
   "source": [
    "import numpy as np"
   ]
  },
  {
   "cell_type": "code",
   "execution_count": 3,
   "metadata": {
    "collapsed": true
   },
   "outputs": [],
   "source": [
    "np.random.seed(0)\n",
    "dt = 0.01 # サンプリングレート 100[Hz]"
   ]
  },
  {
   "cell_type": "markdown",
   "metadata": {},
   "source": [
    "システムモデルパラメータ"
   ]
  },
  {
   "cell_type": "code",
   "execution_count": 4,
   "metadata": {
    "collapsed": true
   },
   "outputs": [],
   "source": [
    "A = np.array([[1, 0, dt, 0],\n",
    "              [0, 1, 0, dt],\n",
    "              [0, 0, 1, 0],\n",
    "              [0, 0, 0, 1]])"
   ]
  },
  {
   "cell_type": "markdown",
   "metadata": {},
   "source": [
    "センサー位置"
   ]
  },
  {
   "cell_type": "code",
   "execution_count": 5,
   "metadata": {
    "collapsed": true
   },
   "outputs": [],
   "source": [
    "sensor_positions = [[-3, 5],\n",
    "                    [0, 10],\n",
    "                    [3, 10],\n",
    "                    [-1, 3],\n",
    "                    [3, -5]]"
   ]
  },
  {
   "cell_type": "markdown",
   "metadata": {},
   "source": [
    "雑音の分散共分散行列"
   ]
  },
  {
   "cell_type": "code",
   "execution_count": 6,
   "metadata": {
    "collapsed": true
   },
   "outputs": [],
   "source": [
    "Q = np.array([[dt ** 3 / 3, 0, dt ** 2 / 2, 0],\n",
    "              [0, dt ** 3 / 3, 0, dt ** 2 / 2],\n",
    "              [dt ** 2 / 2, 0, dt, 0],\n",
    "              [0, dt ** 2 / 2, 0, dt]])\n",
    "\n",
    "R = np.eye(len(sensor_positions))"
   ]
  },
  {
   "cell_type": "code",
   "execution_count": 7,
   "metadata": {
    "collapsed": true
   },
   "outputs": [],
   "source": [
    "Q *= 10 ** -1\n",
    "R *= 10 ** -3"
   ]
  },
  {
   "cell_type": "markdown",
   "metadata": {},
   "source": [
    "システム方程式"
   ]
  },
  {
   "cell_type": "code",
   "execution_count": 8,
   "metadata": {
    "collapsed": true
   },
   "outputs": [],
   "source": [
    "def transition_function(x):\n",
    "    return A @ x"
   ]
  },
  {
   "cell_type": "markdown",
   "metadata": {},
   "source": [
    "観測方程式"
   ]
  },
  {
   "cell_type": "code",
   "execution_count": 9,
   "metadata": {
    "collapsed": true
   },
   "outputs": [],
   "source": [
    "def observation_function(x):\n",
    "    observation_list = []\n",
    "    for sensor_position in sensor_positions:\n",
    "        theta = np.arctan2(x[1] - sensor_position[1], x[0] - sensor_position[0])\n",
    "        observation_list.append(theta)\n",
    "\n",
    "    return np.array(observation_list)"
   ]
  },
  {
   "cell_type": "markdown",
   "metadata": {},
   "source": [
    "初期状態"
   ]
  },
  {
   "cell_type": "code",
   "execution_count": 12,
   "metadata": {
    "collapsed": true
   },
   "outputs": [],
   "source": [
    "state = np.array([0, 0, 0.0, 0.0])"
   ]
  },
  {
   "cell_type": "markdown",
   "metadata": {},
   "source": [
    "真の軌道生成"
   ]
  },
  {
   "cell_type": "code",
   "execution_count": 11,
   "metadata": {
    "collapsed": true
   },
   "outputs": [],
   "source": [
    "true_state_list = []\n",
    "observation_list = []"
   ]
  },
  {
   "cell_type": "code",
   "execution_count": 13,
   "metadata": {
    "collapsed": true
   },
   "outputs": [],
   "source": [
    "for i in range(1000):\n",
    "    state = np.random.multivariate_normal(transition_function(state), Q)\n",
    "\n",
    "    observation = np.random.multivariate_normal(observation_function(state), R)\n",
    "\n",
    "    true_state_list.append(state)\n",
    "    observation_list.append(observation)"
   ]
  },
  {
   "cell_type": "markdown",
   "metadata": {},
   "source": [
    "UKFインスタンス生成"
   ]
  },
  {
   "cell_type": "code",
   "execution_count": 14,
   "metadata": {
    "collapsed": true
   },
   "outputs": [],
   "source": [
    "ukf = UnscentedKalmanFilter(state_dim=4, observation_dim=len(sensor_positions), transition_function=transition_function,\n",
    "                            observation_function=observation_function, process_noise=Q, observation_noise=R)"
   ]
  },
  {
   "cell_type": "markdown",
   "metadata": {},
   "source": [
    "UKFを用いて推定"
   ]
  },
  {
   "cell_type": "code",
   "execution_count": 16,
   "metadata": {
    "collapsed": false
   },
   "outputs": [],
   "source": [
    "estimate_list = []\n",
    "for i, observation in enumerate(observation_list):\n",
    "    ukf.update(observation)\n",
    "    estimate_list.append(ukf.state_mean)"
   ]
  },
  {
   "cell_type": "code",
   "execution_count": 17,
   "metadata": {
    "collapsed": true
   },
   "outputs": [],
   "source": [
    "for i, observation in enumerate(observation_list):\n",
    "    ukf.update(observation)\n",
    "    estimate_list.append(ukf.state_mean)"
   ]
  },
  {
   "cell_type": "markdown",
   "metadata": {},
   "source": [
    "描画処理"
   ]
  },
  {
   "cell_type": "code",
   "execution_count": 18,
   "metadata": {
    "collapsed": true
   },
   "outputs": [],
   "source": [
    "estimate_list = np.array(estimate_list)\n",
    "import matplotlib.pyplot as plt"
   ]
  },
  {
   "cell_type": "code",
   "execution_count": 19,
   "metadata": {
    "collapsed": true
   },
   "outputs": [],
   "source": [
    "%matplotlib inline"
   ]
  },
  {
   "cell_type": "code",
   "execution_count": 20,
   "metadata": {
    "collapsed": false
   },
   "outputs": [
    {
     "data": {
      "text/plain": [
       "<matplotlib.legend.Legend at 0x10fc13438>"
      ]
     },
     "execution_count": 20,
     "metadata": {},
     "output_type": "execute_result"
    },
    {
     "data": {
      "image/png": "[encoded data removed]",
      "text/plain": [
       "<matplotlib.figure.Figure at 0x10fb1a668>"
      ]
     },
     "metadata": {},
     "output_type": "display_data"
    }
   ],
   "source": [
    "plt.suptitle(\"tracking using Wiener velocity model\")\n",
    "plt.subplot(211)\n",
    "plt.title(\"obserevd data\")\n",
    "plt.plot(observation_list)\n",
    "plt.ylabel(\"angle [rad]\")\n",
    "plt.subplot(212)\n",
    "plt.title(\"trajectory\")\n",
    "plt.plot(np.array(true_state_list)[:, 0], np.array(true_state_list)[:, 1], \"bo-\", alpha=0.5, label=\"true\")\n",
    "plt.plot(estimate_list[:, 0], estimate_list[:, 1], \"ro-\", alpha=0.5, label=\"estimate\")\n",
    "\n",
    "plt.scatter(np.array(sensor_positions)[:, 0], np.array(sensor_positions)[:, 1], marker=\"*\", label=\"sensor\")\n",
    "plt.legend()"
   ]
  },
  {
   "cell_type": "markdown",
   "metadata": {},
   "source": [
    "凡例が邪魔なので非表示で再プロット"
   ]
  },
  {
   "cell_type": "code",
   "execution_count": 21,
   "metadata": {
    "collapsed": false
   },
   "outputs": [
    {
     "data": {
      "text/plain": [
       "<matplotlib.collections.PathCollection at 0x10fd5ccc0>"
      ]
     },
     "execution_count": 21,
     "metadata": {},
     "output_type": "execute_result"
    },
    {
     "data": {
      "image/png": "[encoded data removed]",
      "text/plain": [
       "<matplotlib.figure.Figure at 0x10fc7b390>"
      ]
     },
     "metadata": {},
     "output_type": "display_data"
    }
   ],
   "source": [
    "plt.suptitle(\"tracking using Wiener velocity model\")\n",
    "plt.subplot(211)\n",
    "plt.title(\"obserevd data\")\n",
    "plt.plot(observation_list)\n",
    "plt.ylabel(\"angle [rad]\")\n",
    "plt.subplot(212)\n",
    "plt.title(\"trajectory\")\n",
    "plt.plot(np.array(true_state_list)[:, 0], np.array(true_state_list)[:, 1], \"b-\", alpha=0.5, label=\"true\")\n",
    "plt.plot(estimate_list[:, 0], estimate_list[:, 1], \"r-\", alpha=0.5, label=\"estimate\")\n",
    "\n",
    "plt.scatter(np.array(sensor_positions)[:, 0], np.array(sensor_positions)[:, 1], marker=\"*\", label=\"sensor\")\n"
   ]
  },
  {
   "cell_type": "code",
   "execution_count": null,
   "metadata": {
    "collapsed": true
   },
   "outputs": [],
   "source": []
  }
 ],
 "metadata": {
  "kernelspec": {
   "display_name": "Python 3",
   "language": "python",
   "name": "python3"
  },
  "language_info": {
   "codemirror_mode": {
    "name": "ipython",
    "version": 3
   },
   "file_extension": ".py",
   "mimetype": "text/x-python",
   "name": "python",
   "nbconvert_exporter": "python",
   "pygments_lexer": "ipython3",
   "version": "3.5.1"
  }
 },
 "nbformat": 4,
 "nbformat_minor": 0
}
