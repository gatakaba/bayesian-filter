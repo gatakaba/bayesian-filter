{
 "cells": [
  {
   "cell_type": "markdown",
   "metadata": {},
   "source": [
    "## 数式\n",
    "\n",
    "$\n",
    "  x = \\left[\n",
    "    \\begin{array}{r}\n",
    "      \\theta \\\\\n",
    "      \\dot{\\theta} \\\\\n",
    "      \\dot{\\theta}_{b} \\\\\n",
    "    \\end{array}\n",
    "  \\right]\n",
    "$\n",
    "\n",
    "$\n",
    "  \\begin{cases}\n",
    "    \\theta_{k} = \\theta_{k-1} + \\Delta t (\\dot{\\theta}_{k-1} - \\dot{\\theta}_{b_{k-1}})  \\\\\n",
    "    \\dot{\\theta_{k}} = \\dot{\\theta_{k-1}}   \\\\\n",
    "    \\dot{\\theta}_{b_{k-1}} =  \\dot{\\theta}_{b_{k}}    \n",
    "  \\end{cases}\n",
    "$ \n",
    "\n",
    "$\n",
    "    x_{k} = F x_{k-1} + B u_{k-1} + w_{k}\n",
    "$\n",
    "\n",
    "\n",
    "$\n",
    "  F = \\left[\n",
    "    \\begin{array}{rrr}\n",
    "      1 & \\Delta t & \\Delta t \\\\\n",
    "      0 & 1 & 0 \\\\\n",
    "      0 & 0 & 1\n",
    "    \\end{array}\n",
    "  \\right]\n",
    "$\n",
    "\n",
    "$\n",
    "  B = 0\n",
    "$\n",
    "\n",
    "$\n",
    "    p(\\mathbf{w}) =N(0,Q)\n",
    "$\n",
    "\n",
    "$\n",
    "  Q = \\left[\n",
    "    \\begin{array}{rrr}\n",
    "      q_{1} & 0 & 0 \\\\\n",
    "      0 & q_{2} & 0 \\\\\n",
    "      0 & 0 & q_{3}\n",
    "    \\end{array}\n",
    "  \\right]\n",
    "$\n",
    "\n",
    "$\n",
    "    P_{k}=F P_{k-1} F^{T}\n",
    "$\n",
    "\n",
    "$\n",
    "    y_{k} = z_{k} - H x_{k} + v_{k}\n",
    "$\n",
    "\n",
    "$\n",
    "  z = \\left[\n",
    "    \\begin{array}{r}\n",
    "      \\theta \\\\\n",
    "      \\dot{\\theta} \\\\\n",
    "    \\end{array}\n",
    "  \\right]\n",
    "$\n",
    "\n",
    "\n"
   ]
  },
  {
   "cell_type": "markdown",
   "metadata": {},
   "source": [
    "# 参考\n",
    "http://www.linushelgesson.se/2012/04/pitch-and-roll-estimating-kalman-filter-for-stabilizing-quadrocopters/"
   ]
  },
  {
   "cell_type": "code",
   "execution_count": null,
   "metadata": {
    "collapsed": true
   },
   "outputs": [],
   "source": []
  }
 ],
 "metadata": {
  "kernelspec": {
   "display_name": "Python 3",
   "language": "python",
   "name": "python3"
  },
  "language_info": {
   "codemirror_mode": {
    "name": "ipython",
    "version": 3
   },
   "file_extension": ".py",
   "mimetype": "text/x-python",
   "name": "python",
   "nbconvert_exporter": "python",
   "pygments_lexer": "ipython3",
   "version": "3.5.1"
  }
 },
 "nbformat": 4,
 "nbformat_minor": 0
}
